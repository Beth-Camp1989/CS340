{
 "cells": [
  {
   "cell_type": "code",
   "execution_count": 1,
   "id": "29ee3d0d",
   "metadata": {},
   "outputs": [],
   "source": [
    "from animal_shelter import AnimalShelter\n",
    "username = 'aacuser'\n",
    "password = 'SNHU1234'\n",
    "shelter = AnimalShelter()\n"
   ]
  },
  {
   "cell_type": "code",
   "execution_count": 2,
   "id": "92e65210",
   "metadata": {},
   "outputs": [
    {
     "name": "stdout",
     "output_type": "stream",
     "text": [
      "Create result True\n"
     ]
    }
   ],
   "source": [
    "data_to_insert ={'name': 'Kathryn', 'species':'dog', 'breed':'maltese', 'age': 9}\n",
    "result = shelter.create(data_to_insert)\n",
    "print('Create result', result)"
   ]
  },
  {
   "cell_type": "code",
   "execution_count": 3,
   "id": "20bab162",
   "metadata": {},
   "outputs": [
    {
     "name": "stdout",
     "output_type": "stream",
     "text": [
      "Read result [{'_id': ObjectId('6518a62c83a11d7afceac156'), 'name': 'Kathryn', 'species': 'dog', 'breed': 'maltese', 'age': 9}]\n"
     ]
    }
   ],
   "source": [
    "search_criteria = {\"name\": \"Kathryn\"}\n",
    "animals = shelter.read(search_criteria)\n",
    "print('Read result', animals)"
   ]
  },
  {
   "cell_type": "code",
   "execution_count": 4,
   "id": "a275228e",
   "metadata": {},
   "outputs": [
    {
     "name": "stdout",
     "output_type": "stream",
     "text": [
      "Update result: Modified 1 document(s).\n"
     ]
    }
   ],
   "source": [
    "search_criteria = {\"name\": \"Kathryn\"}\n",
    "update_data = {'age': 6}\n",
    "modified_count = shelter.update(search_criteria, update_data)\n",
    "print('Update result: Modified' , modified_count, \"document(s).\")"
   ]
  },
  {
   "cell_type": "code",
   "execution_count": 5,
   "id": "f36272df",
   "metadata": {},
   "outputs": [
    {
     "name": "stdout",
     "output_type": "stream",
     "text": [
      "Delete result: Deleted 1 document(s).\n"
     ]
    }
   ],
   "source": [
    "delete_criterion = {'name':'Kathryn'}\n",
    "deleted_count = shelter.delete(delete_criterion)\n",
    "print('Delete result: Deleted', deleted_count, \"document(s).\")"
   ]
  },
  {
   "cell_type": "code",
   "execution_count": null,
   "id": "bdd047ec",
   "metadata": {},
   "outputs": [],
   "source": []
  }
 ],
 "metadata": {
  "kernelspec": {
   "display_name": "Python 3 (ipykernel)",
   "language": "python",
   "name": "python3"
  },
  "language_info": {
   "codemirror_mode": {
    "name": "ipython",
    "version": 3
   },
   "file_extension": ".py",
   "mimetype": "text/x-python",
   "name": "python",
   "nbconvert_exporter": "python",
   "pygments_lexer": "ipython3",
   "version": "3.9.12"
  }
 },
 "nbformat": 4,
 "nbformat_minor": 5
}
